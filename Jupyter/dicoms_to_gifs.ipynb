{
 "cells": [
  {
   "cell_type": "code",
   "execution_count": null,
   "metadata": {},
   "outputs": [
    {
     "name": "stdout",
     "output_type": "stream",
     "text": [
      "\n",
      "[MoviePy] Building file /Users/riccardobusetti/Desktop/gifs/pa016/st000/pa016_st000_se003.gif with imageio\n"
     ]
    },
    {
     "name": "stderr",
     "output_type": "stream",
     "text": [
      "100%|██████████| 30/30 [00:00<00:00, 83.20it/s]\n"
     ]
    },
    {
     "name": "stdout",
     "output_type": "stream",
     "text": [
      "\n",
      "[MoviePy] Building file /Users/riccardobusetti/Desktop/gifs/pa016/st000/pa016_st000_se004.gif with imageio\n"
     ]
    },
    {
     "name": "stderr",
     "output_type": "stream",
     "text": [
      "100%|██████████| 41/41 [00:01<00:00, 35.86it/s]\n"
     ]
    },
    {
     "name": "stdout",
     "output_type": "stream",
     "text": [
      "\n",
      "[MoviePy] Building file /Users/riccardobusetti/Desktop/gifs/pa016/st000/pa016_st000_se005.gif with imageio\n"
     ]
    },
    {
     "name": "stderr",
     "output_type": "stream",
     "text": [
      "100%|██████████| 25/25 [00:00<00:00, 88.64it/s]\n"
     ]
    },
    {
     "name": "stdout",
     "output_type": "stream",
     "text": [
      "\n",
      "[MoviePy] Building file /Users/riccardobusetti/Desktop/gifs/pa016/st000/pa016_st000_se002.gif with imageio\n"
     ]
    },
    {
     "name": "stderr",
     "output_type": "stream",
     "text": [
      " 72%|███████▏  | 18/25 [00:00<00:00, 86.88it/s]"
     ]
    }
   ],
   "source": [
    "import numpy as np\n",
    "import matplotlib.pyplot as plt\n",
    "import SimpleITK as sitk\n",
    "import os\n",
    "import pydicom\n",
    "import time\n",
    "\n",
    "from moviepy.editor import *\n",
    "\n",
    "%matplotlib inline\n",
    "\n",
    "#%%\n",
    "PATIENTS_DIR = '/Users/riccardobusetti/Desktop/tmp_processed'\n",
    "\n",
    "def gif(filename, array, fps=10, scale=1.0):\n",
    "    \"\"\"Creates a gif given a stack of images using moviepy\n",
    "    Notes\n",
    "    -----\n",
    "    works with current Github version of moviepy (not the pip version)\n",
    "    https://github.com/Zulko/moviepy/commit/d4c9c37bc88261d8ed8b5d9b7c317d13b2cdf62e\n",
    "    Usage\n",
    "    -----\n",
    "    >>> X = randn(100, 64, 64)\n",
    "    >>> gif('test.gif', X)\n",
    "    Parameters\n",
    "    ----------\n",
    "    filename : string\n",
    "        The filename of the gif to write to\n",
    "    array : array_like\n",
    "        A numpy array that contains a sequence of images\n",
    "    fps : int\n",
    "        frames per second (default: 10)\n",
    "    scale : float\n",
    "        how much to rescale each image by (default: 1.0)\n",
    "    \"\"\"\n",
    "\n",
    "    # ensure that the file has the .gif extension\n",
    "    fname, _ = os.path.splitext(filename)\n",
    "    filename = fname + '.gif'\n",
    "\n",
    "    # copy into the color dimension if the images are black and white\n",
    "    if array.ndim == 3:\n",
    "        array = array[..., np.newaxis] * np.ones(3)\n",
    "\n",
    "    # make the moviepy clip\n",
    "    clip = ImageSequenceClip(list(array), fps=fps).resize(scale)\n",
    "    clip.write_gif(filename, fps=fps)\n",
    "    return clip\n",
    "\n",
    "def load_patients():\n",
    "    return {\n",
    "        patient_dir.name: {\n",
    "            study_dir.name: {\n",
    "                sequence_dir.name: sum(1 for _ in os.scandir(sequence_dir))\n",
    "                for sequence_dir in os.scandir(study_dir) if not sequence_dir.name.startswith('.')\n",
    "            }\n",
    "            for study_dir in os.scandir(patient_dir) if not study_dir.name.startswith('.')\n",
    "        }\n",
    "        for patient_dir in os.scandir(PATIENTS_DIR) if not patient_dir.name.startswith('.')\n",
    "    }\n",
    "\n",
    "\n",
    "data = load_patients()\n",
    "\n",
    "for patient in data:\n",
    "    os.makedirs(f\"/Users/riccardobusetti/Desktop/gifs/{patient}/\")\n",
    "    for study in data[patient]:\n",
    "        os.makedirs(f\"/Users/riccardobusetti/Desktop/gifs/{patient}/{study}\")\n",
    "        seqs = data[patient][study].items()\n",
    "    \n",
    "        for seq, _ in seqs:\n",
    "            DIR = os.path.join(PATIENTS_DIR, patient, study, seq)\n",
    "            \n",
    "            reader_1 = sitk.ImageSeriesReader()\n",
    "            reader_1.SetOutputPixelType(sitk.sitkFloat32)\n",
    "            dicom_names_1 = reader_1.GetGDCMSeriesFileNames(DIR)\n",
    "            reader_1.SetFileNames(dicom_names_1)\n",
    "            \n",
    "            try:\n",
    "                image = reader_1.Execute()\n",
    "            except RuntimeError:\n",
    "                pass\n",
    "            \n",
    "            image_np = sitk.GetArrayFromImage(image)\n",
    "            \n",
    "            depth, height, width = image_np.shape\n",
    "            \n",
    "            gif(f\"/Users/riccardobusetti/Desktop/gifs/{patient}/{study}/{patient}_{study}_{seq}\", image_np, 60)\n",
    "            "
   ]
  },
  {
   "cell_type": "code",
   "execution_count": null,
   "metadata": {},
   "outputs": [],
   "source": []
  }
 ],
 "metadata": {
  "kernelspec": {
   "display_name": "Python 3",
   "language": "python",
   "name": "python3"
  },
  "language_info": {
   "codemirror_mode": {
    "name": "ipython",
    "version": 3
   },
   "file_extension": ".py",
   "mimetype": "text/x-python",
   "name": "python",
   "nbconvert_exporter": "python",
   "pygments_lexer": "ipython3",
   "version": "3.6.5"
  }
 },
 "nbformat": 4,
 "nbformat_minor": 2
}
