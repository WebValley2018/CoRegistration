{
 "cells": [
  {
   "cell_type": "code",
   "execution_count": 16,
   "metadata": {},
   "outputs": [],
   "source": [
    "import os\n",
    "import SimpleITK as sitk\n",
    "import pydicom as pd\n",
    "import numpy as np\n",
    "import matplotlib.pyplot as plt"
   ]
  },
  {
   "cell_type": "code",
   "execution_count": 20,
   "metadata": {
    "scrolled": false
   },
   "outputs": [
    {
     "name": "stdout",
     "output_type": "stream",
     "text": [
      "/Users/riccardobusetti/Desktop/tmp_processed/pa001/st000/se003\n",
      "se003 (35, 384, 348)\n",
      "/Users/riccardobusetti/Desktop/tmp_processed/pa001/st000/se004\n",
      "se004 (22, 320, 320)\n",
      "/Users/riccardobusetti/Desktop/tmp_processed/pa001/st000/se005\n",
      "se005 (25, 192, 192)\n",
      "/Users/riccardobusetti/Desktop/tmp_processed/pa001/st000/se002\n",
      "se002 (40, 384, 300)\n",
      "/Users/riccardobusetti/Desktop/tmp_processed/pa001/st000/se007\n",
      "se007 (35, 512, 432)\n",
      "/Users/riccardobusetti/Desktop/tmp_processed/pa001/st000/se000\n",
      "se000 (50, 192, 192)\n",
      "/Users/riccardobusetti/Desktop/tmp_processed/pa001/st000/se008\n",
      "se008 (35, 512, 432)\n",
      "/Users/riccardobusetti/Desktop/tmp_processed/pa001/st000/se001\n",
      "se001 (192, 256, 252)\n",
      "/Users/riccardobusetti/Desktop/tmp_processed/pa001/st000/se006\n",
      "se006 (40, 320, 310)\n"
     ]
    }
   ],
   "source": [
    "PATH = \"/Users/riccardobusetti/Desktop/tmp_processed/pa001/st000\"\n",
    "\n",
    "for seq in filter(lambda it: not it.startswith(\".\"), os.listdir(PATH)):\n",
    "    reader_first = sitk.ImageSeriesReader()\n",
    "    reader_first.SetOutputPixelType(sitk.sitkFloat64)\n",
    "    print(os.path.join(PATH, seq))\n",
    "    dicom_first = reader_first.GetGDCMSeriesFileNames(os.path.join(PATH, seq))\n",
    "    reader_first.SetFileNames(dicom_first)\n",
    "    image = reader_first.Execute()\n",
    "\n",
    "    image_np = sitk.GetArrayFromImage(image)\n",
    "    print(seq, image_np.shape)"
   ]
  },
  {
   "cell_type": "code",
   "execution_count": null,
   "metadata": {},
   "outputs": [],
   "source": []
  }
 ],
 "metadata": {
  "kernelspec": {
   "display_name": "Python 3",
   "language": "python",
   "name": "python3"
  },
  "language_info": {
   "codemirror_mode": {
    "name": "ipython",
    "version": 3
   },
   "file_extension": ".py",
   "mimetype": "text/x-python",
   "name": "python",
   "nbconvert_exporter": "python",
   "pygments_lexer": "ipython3",
   "version": "3.6.5"
  }
 },
 "nbformat": 4,
 "nbformat_minor": 2
}
