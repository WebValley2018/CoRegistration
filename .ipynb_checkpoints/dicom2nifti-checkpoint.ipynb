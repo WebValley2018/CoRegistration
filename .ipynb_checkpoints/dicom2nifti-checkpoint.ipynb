{
 "cells": [
  {
   "cell_type": "code",
   "execution_count": 5,
   "metadata": {},
   "outputs": [
    {
     "name": "stderr",
     "output_type": "stream",
     "text": [
      "Slice increment not consistent through all slices\n",
      "---------------------------------------------------------\n",
      "[-105.50077126  -87.76017796  -51.97879027] [0. 0. 0.]\n",
      "[-105.5449011   -88.55706249  -46.8404045 ] [ 0.04412985  0.79688454 -5.13838577]\n",
      "Instance Number: 2\n",
      "---------------------------------------------------------\n",
      "Traceback (most recent call last):\n",
      "  File \"/Users/riccardobusetti/anaconda3/lib/python3.6/site-packages/dicom2nifti/convert_dir.py\", line 92, in convert_directory\n",
      "    convert_dicom.dicom_array_to_nifti(dicom_input, nifti_file, reorient)\n",
      "  File \"/Users/riccardobusetti/anaconda3/lib/python3.6/site-packages/dicom2nifti/convert_dicom.py\", line 130, in dicom_array_to_nifti\n",
      "    results = convert_siemens.dicom_to_nifti(dicom_list, output_file)\n",
      "  File \"/Users/riccardobusetti/anaconda3/lib/python3.6/site-packages/dicom2nifti/convert_siemens.py\", line 89, in dicom_to_nifti\n",
      "    return convert_generic.dicom_to_nifti(dicom_input, output_file)\n",
      "  File \"/Users/riccardobusetti/anaconda3/lib/python3.6/site-packages/dicom2nifti/convert_generic.py\", line 63, in dicom_to_nifti\n",
      "    common.validate_sliceincrement(dicom_input)\n",
      "  File \"/Users/riccardobusetti/anaconda3/lib/python3.6/site-packages/dicom2nifti/common.py\", line 477, in validate_sliceincrement\n",
      "    raise ConversionValidationError('SLICE_INCREMENT_INCONSISTENT')\n",
      "dicom2nifti.exceptions.ConversionValidationError: SLICE_INCREMENT_INCONSISTENT\n"
     ]
    }
   ],
   "source": [
    "import dicom2nifti\n",
    "import dicom2nifti.settings as settings\n",
    "\n",
    "MAIN_DIR = \"/Users/riccardobusetti/Desktop/tmp_processed/pa002\"\n",
    "OUTPUT_DIR = \"/Users/riccardobusetti/Desktop\"\n",
    "\n",
    "settings.disable_validate_orthogonal()\n",
    "settings.enable_resampling()\n",
    "settings.set_resample_spline_interpolation_order(1)\n",
    "settings.set_resample_padding(-1000)\n",
    "\n",
    "dicom2nifti.convert_directory(MAIN_DIR, OUTPUT_DIR)"
   ]
  },
  {
   "cell_type": "code",
   "execution_count": null,
   "metadata": {},
   "outputs": [],
   "source": []
  }
 ],
 "metadata": {
  "kernelspec": {
   "display_name": "Python 3",
   "language": "python",
   "name": "python3"
  },
  "language_info": {
   "codemirror_mode": {
    "name": "ipython",
    "version": 3
   },
   "file_extension": ".py",
   "mimetype": "text/x-python",
   "name": "python",
   "nbconvert_exporter": "python",
   "pygments_lexer": "ipython3",
   "version": "3.6.5"
  }
 },
 "nbformat": 4,
 "nbformat_minor": 2
}
