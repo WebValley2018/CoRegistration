{
 "cells": [
  {
   "cell_type": "code",
   "execution_count": 27,
   "metadata": {},
   "outputs": [
    {
     "name": "stdout",
     "output_type": "stream",
     "text": [
      "Using matplotlib backend: MacOSX\n"
     ]
    }
   ],
   "source": [
    "import numpy as np\n",
    "import matplotlib.pyplot as plt\n",
    "import SimpleITK as sitk\n",
    "import os\n",
    "import pydicom\n",
    "from registration_utilities import *\n",
    "\n",
    "%matplotlib auto"
   ]
  },
  {
   "cell_type": "code",
   "execution_count": 41,
   "metadata": {},
   "outputs": [],
   "source": [
    "def remove_keymap_conflicts(new_keys_set):\n",
    "    for prop in plt.rcParams:\n",
    "        if prop.startswith('keymap.'):\n",
    "            keys = plt.rcParams[prop]\n",
    "            remove_list = set(keys) & new_keys_set\n",
    "            for key in remove_list:\n",
    "                keys.remove(key)\n",
    "                \n",
    "def multi_slice_viewer(volume, mask=None):\n",
    "    remove_keymap_conflicts({'j', 'k'})\n",
    "    fig, ax = plt.subplots()\n",
    "    \n",
    "    if mask is not None:\n",
    "        mask = mask*np.max(volume)/2\n",
    "\n",
    "    ax.volume = volume + mask\n",
    "        \n",
    "    ax.index = volume.shape[2] // 2\n",
    "    ax.imshow(volume[:,:,ax.index])\n",
    "    \n",
    "#    ax.imshow(mask[:,:,ax.index], alpha=0.5)\n",
    "        \n",
    "    fig.canvas.mpl_connect('key_press_event', process_key)\n",
    "\n",
    "def process_key(event):\n",
    "    fig = event.canvas.figure\n",
    "    ax = fig.axes[0]\n",
    "    if event.key == 'j':\n",
    "        previous_slice(ax)\n",
    "    elif event.key == 'k':\n",
    "        next_slice(ax)\n",
    "    fig.canvas.draw()\n",
    "\n",
    "def previous_slice(ax):\n",
    "    volume = ax.volume\n",
    "#    mask = ax.mask\n",
    "    ax.index = (ax.index - 1) % volume.shape[2]  # wrap around using %\n",
    "    ax.images[0].set_array(volume[:,:, ax.index])\n",
    "#    ax.images[1].set_array(mask[:,:, ax.index])\n",
    "\n",
    "def next_slice(ax):\n",
    "    volume = ax.volume\n",
    "#    mask = ax.mask\n",
    "    ax.index = (ax.index + 1) % volume.shape[2]\n",
    "    ax.images[0].set_array(volume[:,:,ax.index])\n",
    "#    ax.images[1].set_array(mask[:,:, ax.index])"
   ]
  },
  {
   "cell_type": "code",
   "execution_count": 28,
   "metadata": {},
   "outputs": [],
   "source": [
    "DATADIR_1 = '/Users/riccardobusetti/Desktop/tmp_processed/pa001/st000/se001'\n",
    "DATADIR_2 = '/Users/riccardobusetti/Desktop/tmp_processed/pa001/st000/se000'\n",
    "\n",
    "reader_1 = sitk.ImageSeriesReader()\n",
    "reader_1.SetOutputPixelType(sitk.sitkFloat32)\n",
    "dicom_names_1 = reader_1.GetGDCMSeriesFileNames(DATADIR_1)\n",
    "reader_1.SetFileNames(dicom_names_1)\n",
    "\n",
    "reader_2 = sitk.ImageSeriesReader()\n",
    "reader_2.SetOutputPixelType(sitk.sitkFloat32)\n",
    "dicom_names_2 = reader_2.GetGDCMSeriesFileNames(DATADIR_2)\n",
    "reader_2.SetFileNames(dicom_names_2)"
   ]
  },
  {
   "cell_type": "code",
   "execution_count": 29,
   "metadata": {},
   "outputs": [],
   "source": [
    "fixed_image = reader_1.Execute()\n",
    "moving_image = reader_2.Execute()\n",
    "\n",
    "moving_to_fixed = sitk.Resample(moving_image, fixed_image)"
   ]
  },
  {
   "cell_type": "code",
   "execution_count": 30,
   "metadata": {},
   "outputs": [],
   "source": [
    "moving_to_fixed_np = sitk.GetArrayFromImage(moving_to_fixed)\n",
    "moving_image_np = sitk.GetArrayFromImage(moving_image)\n",
    "fixed_image_np = sitk.GetArrayFromImage(fixed_image)"
   ]
  },
  {
   "cell_type": "code",
   "execution_count": 31,
   "metadata": {},
   "outputs": [
    {
     "data": {
      "text/plain": [
       "<matplotlib.image.AxesImage at 0x1401ea5c0>"
      ]
     },
     "execution_count": 31,
     "metadata": {},
     "output_type": "execute_result"
    }
   ],
   "source": [
    "plt.figure()\n",
    "plt.subplot(131)\n",
    "plt.imshow(fixed_image_np[190,:,:])\n",
    "\n",
    "plt.subplot(132)\n",
    "plt.imshow(moving_image_np[24,:,:])\n",
    "\n",
    "plt.subplot(133)\n",
    "plt.imshow(moving_to_fixed_np[96,:,:])"
   ]
  },
  {
   "cell_type": "code",
   "execution_count": 42,
   "metadata": {},
   "outputs": [
    {
     "ename": "TypeError",
     "evalue": "unsupported operand type(s) for +: 'float' and 'NoneType'",
     "output_type": "error",
     "traceback": [
      "\u001b[0;31m---------------------------------------------------------------------------\u001b[0m",
      "\u001b[0;31mTypeError\u001b[0m                                 Traceback (most recent call last)",
      "\u001b[0;32m<ipython-input-42-1c8b262dfacc>\u001b[0m in \u001b[0;36m<module>\u001b[0;34m()\u001b[0m\n\u001b[0;32m----> 1\u001b[0;31m \u001b[0mmulti_slice_viewer\u001b[0m\u001b[0;34m(\u001b[0m\u001b[0mmoving_image_np\u001b[0m\u001b[0;34m)\u001b[0m\u001b[0;34m\u001b[0m\u001b[0m\n\u001b[0m",
      "\u001b[0;32m<ipython-input-41-b5f0baeab5c4>\u001b[0m in \u001b[0;36mmulti_slice_viewer\u001b[0;34m(volume, mask)\u001b[0m\n\u001b[1;32m     14\u001b[0m         \u001b[0mmask\u001b[0m \u001b[0;34m=\u001b[0m \u001b[0mmask\u001b[0m\u001b[0;34m*\u001b[0m\u001b[0mnp\u001b[0m\u001b[0;34m.\u001b[0m\u001b[0mmax\u001b[0m\u001b[0;34m(\u001b[0m\u001b[0mvolume\u001b[0m\u001b[0;34m)\u001b[0m\u001b[0;34m/\u001b[0m\u001b[0;36m2\u001b[0m\u001b[0;34m\u001b[0m\u001b[0m\n\u001b[1;32m     15\u001b[0m \u001b[0;34m\u001b[0m\u001b[0m\n\u001b[0;32m---> 16\u001b[0;31m     \u001b[0max\u001b[0m\u001b[0;34m.\u001b[0m\u001b[0mvolume\u001b[0m \u001b[0;34m=\u001b[0m \u001b[0mvolume\u001b[0m \u001b[0;34m+\u001b[0m \u001b[0mmask\u001b[0m\u001b[0;34m\u001b[0m\u001b[0m\n\u001b[0m\u001b[1;32m     17\u001b[0m \u001b[0;34m\u001b[0m\u001b[0m\n\u001b[1;32m     18\u001b[0m     \u001b[0max\u001b[0m\u001b[0;34m.\u001b[0m\u001b[0mindex\u001b[0m \u001b[0;34m=\u001b[0m \u001b[0mvolume\u001b[0m\u001b[0;34m.\u001b[0m\u001b[0mshape\u001b[0m\u001b[0;34m[\u001b[0m\u001b[0;36m2\u001b[0m\u001b[0;34m]\u001b[0m \u001b[0;34m//\u001b[0m \u001b[0;36m2\u001b[0m\u001b[0;34m\u001b[0m\u001b[0m\n",
      "\u001b[0;31mTypeError\u001b[0m: unsupported operand type(s) for +: 'float' and 'NoneType'"
     ]
    }
   ],
   "source": [
    "multi_slice_viewer(moving_image_np)\n"
   ]
  },
  {
   "cell_type": "code",
   "execution_count": 33,
   "metadata": {},
   "outputs": [
    {
     "name": "stdout",
     "output_type": "stream",
     "text": [
      "(192, 256, 252)\n",
      "(50, 192, 192)\n",
      "(192, 256, 252)\n"
     ]
    }
   ],
   "source": [
    "print(fixed_image_np.shape)\n",
    "print(moving_image_np.shape)\n",
    "print(moving_to_fixed_np.shape)"
   ]
  },
  {
   "cell_type": "code",
   "execution_count": 34,
   "metadata": {},
   "outputs": [],
   "source": [
    "initial_transform = sitk.CenteredTransformInitializer(fixed_image, \n",
    "                                                      moving_to_fixed, \n",
    "                                                      sitk.Euler3DTransform(), \n",
    "                                                      sitk.CenteredTransformInitializerFilter.GEOMETRY)"
   ]
  },
  {
   "cell_type": "code",
   "execution_count": 35,
   "metadata": {},
   "outputs": [
    {
     "data": {
      "application/vnd.jupyter.widget-view+json": {
       "model_id": "cf41ca3b148d4962a0c2eb7ee23cb067",
       "version_major": 2,
       "version_minor": 0
      },
      "text/plain": [
       "interactive(children=(IntSlider(value=95, description='image_z', max=191), FloatSlider(value=0.5, description=…"
      ]
     },
     "metadata": {},
     "output_type": "display_data"
    }
   ],
   "source": [
    "display_registration_results(fixed_image, moving_to_fixed, initial_transform)"
   ]
  },
  {
   "cell_type": "code",
   "execution_count": 36,
   "metadata": {},
   "outputs": [
    {
     "name": "stdout",
     "output_type": "stream",
     "text": [
      "itk::simple::Transform\n",
      " Euler3DTransform (0x7fdbf666aae0)\n",
      "   RTTI typeinfo:   itk::Euler3DTransform<double>\n",
      "   Reference Count: 1\n",
      "   Modified Time: 18277\n",
      "   Debug: Off\n",
      "   Object Name: \n",
      "   Observers: \n",
      "     none\n",
      "   Matrix: \n",
      "     1 0 0 \n",
      "     0 1 0 \n",
      "     0 0 1 \n",
      "   Offset: [0, 0, 0]\n",
      "   Center: [1.75208, 16.1299, 2.24798]\n",
      "   Translation: [0, 0, 0]\n",
      "   Inverse: \n",
      "     1 0 0 \n",
      "     0 1 0 \n",
      "     0 0 1 \n",
      "   Singular: 0\n",
      "   Euler's angles: AngleX=0 AngleY=0 AngleZ=0\n",
      "   m_ComputeZYX = 0\n",
      "\n"
     ]
    }
   ],
   "source": [
    "print(initial_transform)"
   ]
  },
  {
   "cell_type": "code",
   "execution_count": 37,
   "metadata": {},
   "outputs": [],
   "source": [
    "registration_method = sitk.ImageRegistrationMethod()\n",
    "\n",
    "registration_method.SetMetricAsMattesMutualInformation(numberOfHistogramBins=50)\n",
    "registration_method.SetMetricSamplingStrategy(registration_method.RANDOM)\n",
    "registration_method.SetMetricSamplingPercentage(0.01)\n",
    "\n",
    "registration_method.SetInterpolator(sitk.sitkLinear)\n",
    "\n",
    "registration_method.SetOptimizerAsGradientDescent(learningRate=1.0, numberOfIterations=60)\n",
    "registration_method.SetOptimizerScalesFromPhysicalShift() \n",
    "\n",
    "registration_method.SetInitialTransform(initial_transform, inPlace=False)\n",
    "\n",
    "registration_method.AddCommand(sitk.sitkStartEvent, metric_start_plot)\n",
    "registration_method.AddCommand(sitk.sitkEndEvent, metric_end_plot)\n",
    "registration_method.AddCommand(sitk.sitkIterationEvent, \n",
    "                               lambda: metric_plot_values(registration_method))\n",
    "\n",
    "final_transform_v1 = registration_method.Execute(fixed_image, moving_to_fixed)"
   ]
  },
  {
   "cell_type": "code",
   "execution_count": 38,
   "metadata": {},
   "outputs": [
    {
     "name": "stdout",
     "output_type": "stream",
     "text": [
      "itk::simple::Transform\n",
      " CompositeTransform (0x7fdbf67871a0)\n",
      "   RTTI typeinfo:   itk::CompositeTransform<double, 3u>\n",
      "   Reference Count: 1\n",
      "   Modified Time: 534909\n",
      "   Debug: Off\n",
      "   Object Name: \n",
      "   Observers: \n",
      "     none\n",
      "   Transforms in queue, from begin to end:\n",
      "   >>>>>>>>>\n",
      "   Euler3DTransform (0x7fdbf665bf60)\n",
      "     RTTI typeinfo:   itk::Euler3DTransform<double>\n",
      "     Reference Count: 1\n",
      "     Modified Time: 534900\n",
      "     Debug: Off\n",
      "     Object Name: \n",
      "     Observers: \n",
      "       none\n",
      "     Matrix: \n",
      "       0.99971 -0.00765767 0.0228373 \n",
      "       0.00914618 0.997791 -0.0658035 \n",
      "       -0.0222829 0.0659933 0.997571 \n",
      "     Offset: [-0.0812195, -2.32241, 39.6631]\n",
      "     Center: [1.75208, 16.1299, 2.24798]\n",
      "     Translation: [-0.153907, -2.48995, 40.6831]\n",
      "     Inverse: \n",
      "       0.99971 0.00914618 -0.0222829 \n",
      "       -0.00765767 0.997791 0.0659933 \n",
      "       0.0228373 -0.0658035 0.997571 \n",
      "     Singular: 0\n",
      "     Euler's angles: AngleX=0.0660413 AngleY=0.0223335 AngleZ=0.00767448\n",
      "     m_ComputeZYX = 0\n",
      "   End of MultiTransform.\n",
      "<<<<<<<<<<\n",
      "   TransformsToOptimizeFlags, begin() to end(): \n",
      "      1 \n",
      "   TransformsToOptimize in queue, from begin to end:\n",
      "   End of TransformsToOptimizeQueue.\n",
      "<<<<<<<<<<\n",
      "   End of CompositeTransform.\n",
      "<<<<<<<<<<\n",
      "\n"
     ]
    }
   ],
   "source": [
    "print(final_transform_v1)"
   ]
  },
  {
   "cell_type": "code",
   "execution_count": 39,
   "metadata": {},
   "outputs": [
    {
     "name": "stdout",
     "output_type": "stream",
     "text": [
      "Using matplotlib backend: MacOSX\n"
     ]
    }
   ],
   "source": [
    "%matplotlib auto"
   ]
  },
  {
   "cell_type": "code",
   "execution_count": 40,
   "metadata": {},
   "outputs": [
    {
     "data": {
      "application/vnd.jupyter.widget-view+json": {
       "model_id": "1350433fcef24aa1b04c3949a07e96ce",
       "version_major": 2,
       "version_minor": 0
      },
      "text/plain": [
       "interactive(children=(IntSlider(value=95, description='image_z', max=191), FloatSlider(value=0.5, description=…"
      ]
     },
     "metadata": {},
     "output_type": "display_data"
    }
   ],
   "source": [
    "display_registration_results(fixed_image, moving_to_fixed, final_transform_v1)"
   ]
  }
 ],
 "metadata": {
  "kernelspec": {
   "display_name": "Python 3",
   "language": "python",
   "name": "python3"
  },
  "language_info": {
   "codemirror_mode": {
    "name": "ipython",
    "version": 3
   },
   "file_extension": ".py",
   "mimetype": "text/x-python",
   "name": "python",
   "nbconvert_exporter": "python",
   "pygments_lexer": "ipython3",
   "version": "3.6.5"
  }
 },
 "nbformat": 4,
 "nbformat_minor": 2
}
