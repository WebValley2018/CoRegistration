{
 "cells": [
  {
   "cell_type": "code",
   "execution_count": 5,
   "metadata": {},
   "outputs": [],
   "source": [
    "import os\n",
    "import pydicom\n",
    "import numpy as np\n",
    "import SimpleITK as sitk\n",
    "\n",
    "DATADIR = '/Users/riccardobusetti/Desktop/DICOM-DATA/tmp/0dd5f745-7f03-4cc6-b701-c74d3fbcee33/OPBG0016_20180622_113709428'\n",
    "files  = os.listdir(DATADIR)\n",
    "sequence = []\n",
    "variant = []\n",
    "\n",
    "for FILE in files:\n",
    "    RefDs = pydicom.dcmread(os.path.join(DATADIR, FILE))\n",
    "    print(RefDs)"
   ]
  },
  {
   "cell_type": "code",
   "execution_count": null,
   "metadata": {},
   "outputs": [],
   "source": []
  }
 ],
 "metadata": {
  "kernelspec": {
   "display_name": "Python 3",
   "language": "python",
   "name": "python3"
  },
  "language_info": {
   "codemirror_mode": {
    "name": "ipython",
    "version": 3
   },
   "file_extension": ".py",
   "mimetype": "text/x-python",
   "name": "python",
   "nbconvert_exporter": "python",
   "pygments_lexer": "ipython3",
   "version": "3.6.5"
  }
 },
 "nbformat": 4,
 "nbformat_minor": 2
}
