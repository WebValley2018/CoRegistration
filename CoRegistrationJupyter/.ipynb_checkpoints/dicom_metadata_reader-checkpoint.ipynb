{
 "cells": [
  {
   "cell_type": "code",
   "execution_count": null,
   "metadata": {},
   "outputs": [],
   "source": [
    "import numpy as np\n",
    "import matplotlib.pyplot as plt\n",
    "import SimpleITK as sitk\n",
    "import os\n",
    "import pydicom\n",
    "\n",
    "DATADIR = '/home/andrea/Trento/DATI/1af1b29e-a57d-4e5f-a71e-d08294f0a043/OPBG0010_20180622_094303725/'\n",
    "files  = os.listdir(DATADIR)\n",
    "sequence = []\n",
    "variant = []\n",
    "for FILE in files:\n",
    "    RefDs = pydicom.dcmread(os.path.join(DATADIR, FILE))\n",
    "    sequence.append(RefDs.SequenceName)\n",
    "    variant.append(RefDs.SequenceVariant)\n",
    "    print(RefDs)"
   ]
  }
 ],
 "metadata": {
  "kernelspec": {
   "display_name": "Python 3",
   "language": "python",
   "name": "python3"
  },
  "language_info": {
   "codemirror_mode": {
    "name": "ipython",
    "version": 3
   },
   "file_extension": ".py",
   "mimetype": "text/x-python",
   "name": "python",
   "nbconvert_exporter": "python",
   "pygments_lexer": "ipython3",
   "version": "3.6.5"
  }
 },
 "nbformat": 4,
 "nbformat_minor": 2
}
