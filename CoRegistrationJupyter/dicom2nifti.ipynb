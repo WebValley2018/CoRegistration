{
 "cells": [
  {
   "cell_type": "code",
   "execution_count": 6,
   "metadata": {},
   "outputs": [],
   "source": [
    "import dicom2nifti\n",
    "import dicom2nifti.settings as settings\n",
    "\n",
    "MAIN_DIR = \"/Users/riccardobusetti/Desktop/tmp_processed/pa002\"\n",
    "OUTPUT_DIR = \"/Users/riccardobusetti/Desktop\"\n",
    "\n",
    "settings.disable_validate_orthogonal()\n",
    "settings.enable_resampling()\n",
    "settings.set_resample_spline_interpolation_order(1)\n",
    "settings.set_resample_padding(-1000)\n",
    "\n",
    "dicom2nifti.convert_directory(MAIN_DIR, OUTPUT_DIR)"
   ]
  },
  {
   "cell_type": "code",
   "execution_count": null,
   "metadata": {},
   "outputs": [],
   "source": []
  }
 ],
 "metadata": {
  "kernelspec": {
   "display_name": "Python 3",
   "language": "python",
   "name": "python3"
  },
  "language_info": {
   "codemirror_mode": {
    "name": "ipython",
    "version": 3
   },
   "file_extension": ".py",
   "mimetype": "text/x-python",
   "name": "python",
   "nbconvert_exporter": "python",
   "pygments_lexer": "ipython3",
   "version": "3.6.5"
  }
 },
 "nbformat": 4,
 "nbformat_minor": 2
}
