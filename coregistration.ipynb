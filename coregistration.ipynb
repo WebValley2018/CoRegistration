{
 "cells": [
  {
   "cell_type": "code",
   "execution_count": 2,
   "metadata": {},
   "outputs": [
    {
     "ename": "ModuleNotFoundError",
     "evalue": "No module named 'registration_utilities'",
     "output_type": "error",
     "traceback": [
      "\u001b[0;31m---------------------------------------------------------------------------\u001b[0m",
      "\u001b[0;31mModuleNotFoundError\u001b[0m                       Traceback (most recent call last)",
      "\u001b[0;32m<ipython-input-2-62f3dcc9bd1d>\u001b[0m in \u001b[0;36m<module>\u001b[0;34m()\u001b[0m\n\u001b[1;32m      6\u001b[0m \u001b[0;32mimport\u001b[0m \u001b[0mpydicom\u001b[0m\u001b[0;34m\u001b[0m\u001b[0m\n\u001b[1;32m      7\u001b[0m \u001b[0;34m\u001b[0m\u001b[0m\n\u001b[0;32m----> 8\u001b[0;31m \u001b[0;32mfrom\u001b[0m \u001b[0mregistration_utilities\u001b[0m \u001b[0;32mimport\u001b[0m \u001b[0;34m*\u001b[0m\u001b[0;34m\u001b[0m\u001b[0m\n\u001b[0m\u001b[1;32m      9\u001b[0m \u001b[0;34m\u001b[0m\u001b[0m\n\u001b[1;32m     10\u001b[0m \u001b[0mget_ipython\u001b[0m\u001b[0;34m(\u001b[0m\u001b[0;34m)\u001b[0m\u001b[0;34m.\u001b[0m\u001b[0mrun_line_magic\u001b[0m\u001b[0;34m(\u001b[0m\u001b[0;34m'matplotlib'\u001b[0m\u001b[0;34m,\u001b[0m \u001b[0;34m'autob'\u001b[0m\u001b[0;34m)\u001b[0m\u001b[0;34m\u001b[0m\u001b[0m\n",
      "\u001b[0;31mModuleNotFoundError\u001b[0m: No module named 'registration_utilities'"
     ]
    }
   ],
   "source": [
    "import numpy as np\n",
    "import matplotlib.pyplot as plt\n",
    "import SimpleITK as sitk\n",
    "import os\n",
    "\n",
    "import pydicom\n",
    "\n",
    "from registration_utilities import *\n",
    "\n",
    "%matplotlib autob\n",
    "        \n",
    "class CoRegistration():\n",
    "    \n",
    "    def __init__(self, first_dir, second_dir):\n",
    "        self.first_dir = first_dir\n",
    "        self.second_dir = second_dir\n",
    "\n",
    "    def start_coregistration(self):\n",
    "        get_meta_data()\n",
    "        moving_image, fixed_image = execute()\n",
    "        resampled_image = resample(moving_image, fixed_image)\n",
    "        moving_image_np, fixed_image_np, resampled_image_np = images_to_np_array(moving_image,\n",
    "                                                                                fixed_image,\n",
    "                                                                                resampled_image)\n",
    "        plot_images(moving_image_np, fixed_image_np, resampled_image_np)\n",
    "        \n",
    "    def get_meta_data(self):\n",
    "        # Reading meta data of the first image\n",
    "        reader_first = sitk.ImageSeriesReader()\n",
    "        reader_first.SetOutputPixelType(sitk.sitkFloat32)\n",
    "        dicom_first = reader_first.GetGDCMSeriesFileNames(self.first_dir)\n",
    "        reader_first.SetFileName(dicom_first)\n",
    "        # Reading meta data of the second image\n",
    "        reader_second = sitk.ImageSeriesReader()\n",
    "        reader_second.SetOutputPixelType(sitk.sitkFloat32)\n",
    "        dicom_second = reader_second.GetGDCMSeriesFileNames(self.second_dir)\n",
    "        reader_second.SetFileNames(dicom_second)                                                   \n",
    "                                                           \n",
    "    def execute(self):\n",
    "        return (self.reader_first.Execute(),\n",
    "               self.reader_second.Execute())\n",
    "    \n",
    "    def resample(self, moving_image, fixed_image):\n",
    "        return sitk.Resample(moving_image, fixed_image)\n",
    "    \n",
    "    def images_to_np_array(self, moving_image, fixed_image, resampled_image):\n",
    "        return (sitk.GetArrayFromImage(moving_image),\n",
    "               sitk.GetArrayFromImage(fixed_image),\n",
    "               sitk.GetArrayFromImage(resampled_image))\n",
    "    \n",
    "    def plot_images(self, moving_image_np, fixed_image_np, resampled_image_np, depth_level):\n",
    "        plt.imshow(moving_image_np[depth_level,:,:])\n",
    "        plt.imshow(fixed_image_np[depth_level,:,:])\n",
    "        plt.imshow(resampled_image_np[depth_level,:,:])\n",
    "                          \n",
    "FIRST_IMAGE_DIR = \"\"\n",
    "SECOND_IMAGE_DIR = \"\"\n",
    "\n",
    "coregistration = CoRegistration(FIRST_IMAGE_DIR, SECOND_IMAGE_DIR)        "
   ]
  },
  {
   "cell_type": "code",
   "execution_count": null,
   "metadata": {},
   "outputs": [],
   "source": []
  }
 ],
 "metadata": {
  "kernelspec": {
   "display_name": "Python 3",
   "language": "python",
   "name": "python3"
  },
  "language_info": {
   "codemirror_mode": {
    "name": "ipython",
    "version": 3
   },
   "file_extension": ".py",
   "mimetype": "text/x-python",
   "name": "python",
   "nbconvert_exporter": "python",
   "pygments_lexer": "ipython3",
   "version": "3.6.5"
  }
 },
 "nbformat": 4,
 "nbformat_minor": 2
}
